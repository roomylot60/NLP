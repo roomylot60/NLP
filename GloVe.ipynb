{
 "cells": [
  {
   "cell_type": "markdown",
   "metadata": {},
   "source": [
    "### Global Vectors for Word Representation;GloVe\n",
    "- 카운트 기반(Latent Semantic Analysis), 예측 기반(Word2Vec)을 보완하는 방법론; 임베딩 된 중심 단어와 주변 단어 벡터의 내적인 전체 코퍼스에서의 동시 등장 확률이 되도록 만드는 것\n",
    "- LSA : DTM, TF-IDF 행렬과 같이 각 문서에서의 각 단어의 빈도수를카운트 한 행렬이라는 전체적인 통계 정보를 입력으로 받아 차원을 축소(Truncated SVD)하여 잠재된 의미를 끌어내는 방법론; 전체적인 통계 정보를 고려하기는 하지만, 단어 의미의 유추 작업(Analogy task)에는 성능이 떨어짐\n",
    "- Word2Vec : 실제값과 예측값에 대한 오차를 손실 함수를 통해 줄여나가며 학습하는 예측 기반의 방법론; 임베딩 벡터가 윈도우 크기 내에서만 주변 단어를 고려하기 때문에 코퍼스의 전체적인 통계 정보를 반영하지 못함.\n",
    "- Window based Co-occurrence Matrix(윈도우 기반 동시 등장 행렬) : 행과 열을 전체 단어 집합의 단어들로 구성하고, i단어의 윈도우 크기 내에서 k 단어가 등장한 횟수를 i행 k열에 기재; 코퍼스(여러 문장들)에서의 단어 딕셔너리에 대해 정해진 윈도우 크기에 따라 해당 단어의 주변 단어의 존재 여부를 확인하고 해당 수치 만큼을 행렬의 값으로 가지기에 전치(Transpose)해도 동일한 행렬이 됨\n",
    "- Co-occurrence Probability(동시 등장 확률) : 동시 등장 행렬로부터 특정 단어(중심 단어) i의 전체 등장 횟수를 카운트하고, 해당 단어가 등장했을 때 어떤 단어(주변 단어) k가 등장한 횟수를 계산한 조건부 확률"
   ]
  },
  {
   "cell_type": "code",
   "execution_count": null,
   "metadata": {},
   "outputs": [],
   "source": [
    "from glove import Corpus, Glove\n",
    "\n",
    "corpus = Corpus()\n",
    "\n",
    "# 훈련 데이터로부터 Glove 에서 사용할 동시 등장 행렬 생성\n",
    "corpus.fit(result, window=5)\n",
    "glove = Glove(no_components=100, learning_rate=0.05)\n",
    "\n",
    "# 학습에 사용할 thread 수는 4, epoch는 20\n",
    "glove.fit(corpus.matrix, epochs=20, no_threads=4, verbose=True)\n",
    "glove.add_dictionary(corpus.dictionary)"
   ]
  },
  {
   "cell_type": "code",
   "execution_count": null,
   "metadata": {},
   "outputs": [],
   "source": [
    "print(glove/most_similar('man'))"
   ]
  }
 ],
 "metadata": {
  "language_info": {
   "name": "python"
  }
 },
 "nbformat": 4,
 "nbformat_minor": 2
}
